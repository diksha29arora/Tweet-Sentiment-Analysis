{
  "nbformat": 4,
  "nbformat_minor": 0,
  "metadata": {
    "colab": {
      "name": "Twitter Sentiment Analysis.ipynb",
      "provenance": [],
      "collapsed_sections": [],
      "machine_shape": "hm"
    },
    "kernelspec": {
      "name": "python3",
      "display_name": "Python 3"
    },
    "accelerator": "TPU"
  },
  "cells": [
    {
      "cell_type": "code",
      "metadata": {
        "id": "9b3cvr-MdPSJ",
        "colab_type": "code",
        "colab": {}
      },
      "source": [
        "import os\n",
        "import zipfile\n",
        "import numpy as np\n",
        "import pandas as pd\n",
        "from tqdm import tqdm\n",
        "from sklearn.utils import shuffle\n",
        "\n",
        "from google.colab import files\n",
        "\n",
        "from keras.utils import to_categorical\n",
        "from keras.preprocessing.text import Tokenizer\n",
        "\n",
        "from keras.preprocessing.sequence import pad_sequences\n",
        "\n",
        "from keras.models import Sequential, load_model\n",
        "from keras.layers import Dense, LSTM, Embedding, Dropout"
      ],
      "execution_count": 0,
      "outputs": []
    },
    {
      "cell_type": "code",
      "metadata": {
        "id": "xxn7xPawfIM7",
        "colab_type": "code",
        "outputId": "3bfdac67-2ea5-475f-ddf9-c5c0eda0c61e",
        "colab": {
          "base_uri": "https://localhost:8080/",
          "height": 34
        }
      },
      "source": [
        "from google.colab import drive\n",
        "drive.mount('/content/gdrive')"
      ],
      "execution_count": 0,
      "outputs": [
        {
          "output_type": "stream",
          "text": [
            "Drive already mounted at /content/gdrive; to attempt to forcibly remount, call drive.mount(\"/content/gdrive\", force_remount=True).\n"
          ],
          "name": "stdout"
        }
      ]
    },
    {
      "cell_type": "code",
      "metadata": {
        "id": "KuYVCz83fr2w",
        "colab_type": "code",
        "colab": {}
      },
      "source": [
        "with zipfile.ZipFile('gdrive/My Drive/sentiment140.zip', 'r') as zip_ref:\n",
        "    zip_ref.extractall('dataset')"
      ],
      "execution_count": 0,
      "outputs": []
    },
    {
      "cell_type": "code",
      "metadata": {
        "id": "Z1bkK3uTf9eK",
        "colab_type": "code",
        "colab": {}
      },
      "source": [
        "df = pd.read_csv('/content/dataset/training.1600000.processed.noemoticon.csv', encoding = \"ISO-8859-1\", header = None)"
      ],
      "execution_count": 0,
      "outputs": []
    },
    {
      "cell_type": "code",
      "metadata": {
        "id": "-R4aI-phPzpd",
        "colab_type": "code",
        "colab": {}
      },
      "source": [
        "df = shuffle(df)"
      ],
      "execution_count": 0,
      "outputs": []
    },
    {
      "cell_type": "code",
      "metadata": {
        "id": "7D4DCXrahLQk",
        "colab_type": "code",
        "colab": {}
      },
      "source": [
        "dataset = df.values.astype('str')"
      ],
      "execution_count": 0,
      "outputs": []
    },
    {
      "cell_type": "code",
      "metadata": {
        "id": "rctB6Rl_h6z4",
        "colab_type": "code",
        "outputId": "2b3476d2-34a8-4c7e-e878-013f9c09a57c",
        "colab": {
          "base_uri": "https://localhost:8080/",
          "height": 34
        }
      },
      "source": [
        "len(dataset)"
      ],
      "execution_count": 0,
      "outputs": [
        {
          "output_type": "execute_result",
          "data": {
            "text/plain": [
              "1600000"
            ]
          },
          "metadata": {
            "tags": []
          },
          "execution_count": 51
        }
      ]
    },
    {
      "cell_type": "code",
      "metadata": {
        "id": "DP63io7JjBx1",
        "colab_type": "code",
        "colab": {}
      },
      "source": [
        "lables = dataset[:,:1]\n",
        "tweets = dataset[:,5:]"
      ],
      "execution_count": 0,
      "outputs": []
    },
    {
      "cell_type": "code",
      "metadata": {
        "id": "1Mb5YHN2lxbG",
        "colab_type": "code",
        "outputId": "5e4aa1ee-c0f3-454b-ddfb-1b97ae990a66",
        "colab": {
          "base_uri": "https://localhost:8080/",
          "height": 34
        }
      },
      "source": [
        "len(tweets)"
      ],
      "execution_count": 0,
      "outputs": [
        {
          "output_type": "execute_result",
          "data": {
            "text/plain": [
              "1600000"
            ]
          },
          "metadata": {
            "tags": []
          },
          "execution_count": 53
        }
      ]
    },
    {
      "cell_type": "code",
      "metadata": {
        "id": "4_BmXOn7rPE-",
        "colab_type": "code",
        "outputId": "e43695ad-36df-4a7a-b486-74443a51f84b",
        "colab": {
          "base_uri": "https://localhost:8080/",
          "height": 34
        }
      },
      "source": [
        "split_tweets = []\n",
        "\n",
        "for i in tqdm(range(len(tweets))):\n",
        "  split_tweets.append(tweets[i][0].lower().split(' '))"
      ],
      "execution_count": 0,
      "outputs": [
        {
          "output_type": "stream",
          "text": [
            "100%|██████████| 1600000/1600000 [00:10<00:00, 151965.08it/s]\n"
          ],
          "name": "stderr"
        }
      ]
    },
    {
      "cell_type": "code",
      "metadata": {
        "id": "g1I90HFjCSU2",
        "colab_type": "code",
        "colab": {}
      },
      "source": [
        "tokenizer = Tokenizer()\n",
        "tokenizer.fit_on_texts(split_tweets)"
      ],
      "execution_count": 0,
      "outputs": []
    },
    {
      "cell_type": "code",
      "metadata": {
        "id": "uVKgrC1YChgk",
        "colab_type": "code",
        "colab": {}
      },
      "source": [
        "x = tokenizer.texts_to_sequences(split_tweets)"
      ],
      "execution_count": 0,
      "outputs": []
    },
    {
      "cell_type": "code",
      "metadata": {
        "id": "bMCycQ4GC_nZ",
        "colab_type": "code",
        "colab": {}
      },
      "source": [
        "x = pad_sequences(x,25)"
      ],
      "execution_count": 0,
      "outputs": []
    },
    {
      "cell_type": "code",
      "metadata": {
        "id": "Qa8yqhdECq9y",
        "colab_type": "code",
        "colab": {}
      },
      "source": [
        "del tweets\n",
        "del split_tweets\n",
        "del dataset"
      ],
      "execution_count": 0,
      "outputs": []
    },
    {
      "cell_type": "code",
      "metadata": {
        "id": "QK7ww-OGCwsQ",
        "colab_type": "code",
        "colab": {}
      },
      "source": [
        "x = np.array(x)\n",
        "y = np.array(lables).astype('int')\n",
        "y = y/2.\n",
        "y = to_categorical(y, num_classes = 3)"
      ],
      "execution_count": 0,
      "outputs": []
    },
    {
      "cell_type": "code",
      "metadata": {
        "id": "SiX0ouuUUym6",
        "colab_type": "code",
        "colab": {}
      },
      "source": [
        "train_x = x[:1550000,:]\n",
        "train_y = y[:1550000,:]\n",
        "\n",
        "test_x  = x[1550000:,:]\n",
        "test_y  = y[1550000:,:]"
      ],
      "execution_count": 0,
      "outputs": []
    },
    {
      "cell_type": "code",
      "metadata": {
        "id": "tw05tS6NFVMK",
        "colab_type": "code",
        "colab": {}
      },
      "source": [
        "del lables\n",
        "del x\n",
        "del y"
      ],
      "execution_count": 0,
      "outputs": []
    },
    {
      "cell_type": "code",
      "metadata": {
        "id": "cuaIIbKWTrnF",
        "colab_type": "code",
        "colab": {}
      },
      "source": [
        "model = Sequential()\n",
        "\n",
        "model.add(Embedding(len(tokenizer.word_counts)+1, 25, input_length = 25))\n",
        "\n",
        "model.add(LSTM(50, return_sequences = True))\n",
        "model.add(LSTM(50))\n",
        "\n",
        "model.add(Dropout(0.5))\n",
        "\n",
        "model.add(Dense(50, activation = 'relu'))\n",
        "model.add(Dense(3, activation = 'softmax'))\n",
        "\n",
        "model.compile(loss = 'categorical_crossentropy', optimizer = 'adam', metrics = ['accuracy'])"
      ],
      "execution_count": 0,
      "outputs": []
    },
    {
      "cell_type": "code",
      "metadata": {
        "id": "DnHSlj7YTrhX",
        "colab_type": "code",
        "outputId": "a305d719-c78c-4fba-f9b7-07e252af7341",
        "colab": {
          "base_uri": "https://localhost:8080/",
          "height": 102
        }
      },
      "source": [
        "model.fit(train_x,train_y, validation_data = (test_x,test_y), batch_size = 512, epochs = 2, verbose = 1)"
      ],
      "execution_count": 0,
      "outputs": [
        {
          "output_type": "stream",
          "text": [
            "Train on 1550000 samples, validate on 50000 samples\n",
            "Epoch 1/2\n",
            "1550000/1550000 [==============================] - 785s 506us/step - loss: 0.4278 - acc: 0.8013 - val_loss: 0.3689 - val_acc: 0.8371\n",
            "Epoch 2/2\n",
            " 350208/1550000 [=====>........................] - ETA: 9:59 - loss: 0.2832 - acc: 0.8828"
          ],
          "name": "stdout"
        }
      ]
    }
  ]
}